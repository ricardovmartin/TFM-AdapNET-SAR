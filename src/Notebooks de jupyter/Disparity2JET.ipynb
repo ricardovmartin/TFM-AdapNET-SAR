{
 "cells": [
  {
   "cell_type": "code",
   "execution_count": null,
   "id": "15d57dff",
   "metadata": {},
   "outputs": [],
   "source": [
    "# -*- coding: utf-8 -*-\n",
    "\"\"\"\n",
    "\n",
    "\"\"\"\n",
    "\n",
    "import matplotlib\n",
    "import matplotlib.pyplot as plt\n",
    "import matplotlib.image as mpimg\n",
    "import os\n",
    "import numpy as np\n",
    "import cv2\n",
    "\n",
    "cmap = plt.get_cmap('jet')\n",
    "\n",
    "Entries=os.listdir('Introducir dirección imágenes disparidad')\n",
    "Dir_princ='Introducir dirección imágenes disparidad'\n",
    "Destino='Introduucir dirección para guardar imágenes JET'\n",
    "os.chdir(Destino)\n",
    "for entri in Entries:\n",
    "        Direccion=os.path.join(Dir_princ,entri)\n",
    "        image =plt.imread(Direccion)\n",
    "        im=np.array(image)\n",
    "        norm=1/np.amax(image)\n",
    "        imagen_jet=cmap(im*norm)\n",
    "        imagen_jet=np.uint8(imagen_jet*255)\n",
    "        Nombre1=entri.split('disparity')\n",
    "        string=(Nombre1[0],'JET','.png')\n",
    "        Nombre_dest=\"\".join(string)\n",
    "        #cv2.imwrite(Nombre_dest,imagen_jet)\n",
    "        #imagen_jet.save(Nombre_dest)\n",
    "        matplotlib.image.imsave(Nombre_dest,imagen_jet)\n",
    "        "
   ]
  }
 ],
 "metadata": {
  "kernelspec": {
   "display_name": "Python 3",
   "language": "python",
   "name": "python3"
  },
  "language_info": {
   "codemirror_mode": {
    "name": "ipython",
    "version": 3
   },
   "file_extension": ".py",
   "mimetype": "text/x-python",
   "name": "python",
   "nbconvert_exporter": "python",
   "pygments_lexer": "ipython3",
   "version": "3.6.13"
  }
 },
 "nbformat": 4,
 "nbformat_minor": 5
}
