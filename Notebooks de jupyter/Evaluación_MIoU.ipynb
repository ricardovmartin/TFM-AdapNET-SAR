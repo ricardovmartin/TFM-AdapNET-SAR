{
 "cells": [
  {
   "cell_type": "code",
   "execution_count": null,
   "id": "62794239",
   "metadata": {},
   "outputs": [],
   "source": [
    "\n",
    "import sys\n",
    "import os\n",
    "\n",
    "py_file_location = \"Dirección archivos.py AdapNet++\"\n",
    "sys.path.append(os.path.abspath(py_file_location))\n",
    "\n",
    "import argparse\n",
    "import datetime\n",
    "import importlib\n",
    "import re\n",
    "import numpy as np\n",
    "import tensorflow as tf\n",
    "import yaml\n",
    "from dataset.helper import *"
   ]
  },
  {
   "cell_type": "code",
   "execution_count": null,
   "id": "c4b1a934",
   "metadata": {},
   "outputs": [],
   "source": [
    "num_clases='Número de clases'\n",
    "\n",
    "batch_size='Tamño de lote"
   ]
  },
  {
   "cell_type": "code",
   "execution_count": null,
   "id": "75d6b805",
   "metadata": {},
   "outputs": [],
   "source": [
    "def get_test_data():\n",
    "    iterator = get_test_batch()\n",
    "    dataA, label, dataB = iterator.get_next()\n",
    "    return [dataA, label, dataB], iterator\n",
    "\n",
    "def get_test_batch():\n",
    "    filenames = 'Dirección tfrecord conjunto evaluación'\n",
    "    dataset = tf.data.TFRecordDataset(filenames)\n",
    "    dataset = dataset.map(lambda x: parser(x, num_clases))\n",
    "    dataset = dataset.batch(batch_size)\n",
    "    iterator = dataset.make_initializable_iterator()\n",
    "    return iterator\n",
    "\n",
    "def compute_output_matrix(label_max, pred_max, output_matrix):\n",
    "    for i in range(output_matrix.shape[0]):\n",
    "        temp = pred_max == i\n",
    "        temp_l = label_max == i\n",
    "        tp = np.logical_and(temp, temp_l)\n",
    "        temp[temp_l] = True\n",
    "        fp = np.logical_xor(temp, temp_l)\n",
    "        temp = pred_max == i\n",
    "        temp[fp] = False\n",
    "        fn = np.logical_xor(temp, temp_l)\n",
    "        output_matrix[i, 0] += np.sum(tp)\n",
    "        output_matrix[i, 1] += np.sum(fp)\n",
    "        output_matrix[i, 2] += np.sum(fn)\n",
    "\n",
    "    return output_matrix"
   ]
  },
  {
   "cell_type": "code",
   "execution_count": null,
   "id": "be21e12c",
   "metadata": {},
   "outputs": [],
   "source": [
    "def cargar_modelo(ckpt_path,sess):\n",
    "  sess.run(tf.global_variables_initializer())\n",
    "  import_variables = tf.get_collection(tf.GraphKeys.GLOBAL_VARIABLES)\n",
    "  print('total_variables_loaded:', len(import_variables))\n",
    "  saver = tf.train.Saver(import_variables)\n",
    "  saver.restore(sess, ckpt_path)\n",
    "  sess.run(iterator.initializer)\n",
    "\n",
    "\n",
    "\n",
    "def calculo_mIoU(sess):\n",
    "  output_matrix = np.zeros([13, 3])\n",
    "  step = 0\n",
    "  while 1:\n",
    "      try:\n",
    "          img, label, img1 = sess.run([data_list[0], data_list[1], data_list[2]])\n",
    "          feed_dict = {images_pl : img, images1_pl : img1}\n",
    "          probabilities = sess.run([model.softmax], feed_dict=feed_dict)\n",
    "          prediction = np.argmax(probabilities[0], 3)\n",
    "          gt = np.argmax(label, 3)\n",
    "          #prediction[gt == 0] = 0  Activar cuando el fondo ocupe solo una pequeña parte de la imagen.\n",
    "          output_matrix = compute_output_matrix(gt, prediction, output_matrix)\n",
    "          step += 1\n",
    "\n",
    "      except tf.errors.OutOfRangeError:\n",
    "          break\n",
    "  return compute_iou(output_matrix)"
   ]
  },
  {
   "cell_type": "code",
   "execution_count": null,
   "id": "1ecc7ede",
   "metadata": {},
   "outputs": [],
   "source": [
    "module = importlib.import_module('models.' + 'SSMA')\n",
    "model_func = getattr(module, 'SSMA')\n",
    "data_list, iterator = get_test_data()\n",
    "model = model_func(num_classes=num_clases, training=False)\n",
    "images_pl = tf.placeholder(tf.float32, [None, 384, 768, 3])\n",
    "images1_pl = tf.placeholder(tf.float32, [None, 384, 768, 3])\n",
    "model.build_graph(images_pl, images1_pl)\n",
    "config1 = tf.ConfigProto()\n",
    "config1.gpu_options.allow_growth = True\n",
    "\n",
    "MIOUs=[]\n",
    "path='Dirección carpeta con todos los checkpoints'\n",
    "#Los ckpts empiezan en 9\n",
    "index=9\n",
    "while 1:\n",
    "  try:\n",
    "    path_ckpt='Dirección ckpt sin introducir el número (Ej. C://User...//model_RGB_city_uma.ckpt-)'\n",
    "    num=str(index)\n",
    "    path_ckpt=\"\".join((path_ckpt,num))\n",
    "    sess = tf.Session(config=config1)\n",
    "    cargar_modelo(path_ckpt,sess)\n",
    "    MIOUs.append(calculo_mIoU(sess))\n",
    "    #Si se guarda un ckpt cada 10 iteracines\n",
    "    index=index+10\n",
    "  except tf.errors.OutOfRangeError:\n",
    "      print ('No hay mas ckpts')\n",
    "      break"
   ]
  },
  {
   "cell_type": "code",
   "execution_count": null,
   "id": "8a22071b",
   "metadata": {},
   "outputs": [],
   "source": [
    "import matplotlib.pyplot as plt\n",
    "\n",
    "ejeX=list(range(0,len(MIOUs)))\n",
    "\n",
    "plt.plot(ejeX,MIOUs)"
   ]
  }
 ],
 "metadata": {
  "kernelspec": {
   "display_name": "Python 3",
   "language": "python",
   "name": "python3"
  },
  "language_info": {
   "codemirror_mode": {
    "name": "ipython",
    "version": 3
   },
   "file_extension": ".py",
   "mimetype": "text/x-python",
   "name": "python",
   "nbconvert_exporter": "python",
   "pygments_lexer": "ipython3",
   "version": "3.6.13"
  }
 },
 "nbformat": 4,
 "nbformat_minor": 5
}
