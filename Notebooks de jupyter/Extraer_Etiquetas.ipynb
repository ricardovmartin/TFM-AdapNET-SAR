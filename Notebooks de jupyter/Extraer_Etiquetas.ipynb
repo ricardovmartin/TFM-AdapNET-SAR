{
 "cells": [
  {
   "cell_type": "code",
   "execution_count": null,
   "id": "8c3ed95f",
   "metadata": {},
   "outputs": [],
   "source": [
    "# -*- coding: utf-8 -*-\n",
    "\"\"\"\n",
    "Obtener las etiquetas correspondientes a cada imagen en escala de grises. Se utiliza el archivo exportado\n",
    "de CVAT en formato Segmentation Mask. Se parte de las imágenes contenidas dentro de la carpeta con el nombre Segmentation Class \n",
    "para obtener las máscaras en escala de grises\n",
    "\"\"\"\n",
    "\n",
    "\n",
    "import os \n",
    "import cv2\n",
    "import numpy as np\n",
    "\n",
    "\n",
    "Dir_Seg='Introducir dirección máscaras (Segmentation mask)'\n",
    "Dest='Introducir dirección para guardar las etiquetas'\n",
    "#Conversiones RGB a GreyScale\n",
    "#Y = 0.299 R + 0.587 G + 0.114 B\n",
    "def Sacar_LabelIm(im):\n",
    "    #Clase=Imagen_etiquetada==Nivel de gris asociado a la clase\n",
    "    Back=im==0\n",
    "    Escombro=im==165\n",
    "    Pers_civil=im==228\n",
    "    Pers_rescate=im==169\n",
    "    Veh_civil=im==100\n",
    "    Veh_rescate=im==79\n",
    "    Victima=im==118\n",
    "    Zapatos=im==157\n",
    "    \n",
    "    Back=Back*8\n",
    "    Escombro=Escombro*1\n",
    "    Pers_civil=Pers_civil*2\n",
    "    Pers_rescate=Pers_rescate*3\n",
    "    Veh_civil=Veh_civil*4\n",
    "    Veh_rescate=Veh_rescate*5\n",
    "    Victima=Victima*6\n",
    "    Zapatos=Zapatos*7\n",
    "    \n",
    "    Labels=Escombro+Pers_civil+Pers_rescate+Veh_civil+Veh_rescate+Victima+Zapatos+Back\n",
    "    \n",
    "    return Labels\n",
    "\n",
    "\n",
    "Lista=os.listdir(Dir_Seg)\n",
    "for item in Lista:\n",
    "    name=os.path.join(Dir_Seg,item)\n",
    "    im=cv2.imread(name,cv2.IMREAD_UNCHANGED)\n",
    "    im_gray= cv2.cvtColor(im, cv2.COLOR_BGR2GRAY)\n",
    "    im_et=Sacar_LabelIm(im_gray)\n",
    "    name_dest=os.path.join(Dest,item)\n",
    "    cv2.imwrite(name_dest,im_et)"
   ]
  }
 ],
 "metadata": {
  "kernelspec": {
   "display_name": "Python 3",
   "language": "python",
   "name": "python3"
  },
  "language_info": {
   "codemirror_mode": {
    "name": "ipython",
    "version": 3
   },
   "file_extension": ".py",
   "mimetype": "text/x-python",
   "name": "python",
   "nbconvert_exporter": "python",
   "pygments_lexer": "ipython3",
   "version": "3.6.13"
  }
 },
 "nbformat": 4,
 "nbformat_minor": 5
}
