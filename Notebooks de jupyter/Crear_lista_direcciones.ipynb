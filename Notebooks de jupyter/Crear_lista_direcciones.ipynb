{
 "cells": [
  {
   "cell_type": "code",
   "execution_count": null,
   "id": "1013b8c8",
   "metadata": {},
   "outputs": [],
   "source": [
    "# -*- coding: utf-8 -*-\n",
    "\"\"\"\n",
    "Código para crear block de notas con las direcciones de las imágenes y sus etiquetas\n",
    "\"\"\"\n",
    "\n",
    "\n",
    "import os\n",
    "\n",
    "Dir='Introducir dirección imágenes RGB'\n",
    "Dir1='Introducir dirección etiquetas'\n",
    "#Creación listas con los nombres de las imágenes RGB y etiquetas\n",
    "Lista=os.listdir(Dir)\n",
    "Lista_lab=os.listdir(Dir1)\n",
    "os.chdir('Introducir dirección block de notas con direcciones')\n",
    "f= open(\"Direcciones.txt\",\"w+\")\n",
    "for i in range(len(Lista)):\n",
    "    name1=os.path.join(Dir,Lista[i])\n",
    "    name2=os.path.join(Dir1,Lista_lab[i])\n",
    "    name=\" \".join((name1,name2,\"\\n\"))\n",
    "    f.write(name)\n",
    "    \n",
    "f.close"
   ]
  }
 ],
 "metadata": {
  "kernelspec": {
   "display_name": "Python 3",
   "language": "python",
   "name": "python3"
  },
  "language_info": {
   "codemirror_mode": {
    "name": "ipython",
    "version": 3
   },
   "file_extension": ".py",
   "mimetype": "text/x-python",
   "name": "python",
   "nbconvert_exporter": "python",
   "pygments_lexer": "ipython3",
   "version": "3.6.13"
  }
 },
 "nbformat": 4,
 "nbformat_minor": 5
}
